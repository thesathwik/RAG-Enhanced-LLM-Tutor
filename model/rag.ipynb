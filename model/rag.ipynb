{
 "cells": [
  {
   "cell_type": "code",
   "execution_count": null,
   "id": "20af0493",
   "metadata": {},
   "outputs": [],
   "source": [
    "import torch\n",
    "from transformers import RagTokenizer, RagSequenceForGeneration\n",
    "from utils.vectorstore import VectorStore\n",
    "\n",
    "class RAG:\n",
    "    def __init__(self, config, llm):\n",
    "        self.config = config\n",
    "        self.llm = llm\n",
    "        self.tokenizer = RagTokenizer.from_pretrained(config[\"model_name\"])\n",
    "        self.model = RagSequenceForGeneration.from_pretrained(config[\"model_name\"])\n",
    "        self.vector_store = VectorStore(config[\"vector_store\"])\n",
    "\n",
    "    def retrieve(self, query):\n",
    "        retrieved_docs = self.vector_store.search(query, k=self.config[\"num_retrieved_docs\"])\n",
    "        return retrieved_docs\n",
    "\n",
    "    def generate(self, query, retrieved_docs):\n",
    "        input_ids = self.tokenizer(query, return_tensors=\"pt\").input_ids\n",
    "        context_input_ids, context_attention_mask = self.tokenizer.encode_contexts(retrieved_docs)\n",
    "\n",
    "        outputs = self.model.generate(\n",
    "            input_ids=input_ids,\n",
    "            context_input_ids=context_input_ids,\n",
    "            context_attention_mask=context_attention_mask,\n",
    "            max_length=self.config[\"max_length\"],\n",
    "            num_beams=self.config[\"num_beams\"],\n",
    "            num_return_sequences=1,\n",
    "        )\n",
    "\n",
    "        return self.tokenizer.batch_decode(outputs, skip_special_tokens=True)"
   ]
  }
 ],
 "metadata": {
  "kernelspec": {
   "display_name": "Python 3 (ipykernel)",
   "language": "python",
   "name": "python3"
  },
  "language_info": {
   "codemirror_mode": {
    "name": "ipython",
    "version": 3
   },
   "file_extension": ".py",
   "mimetype": "text/x-python",
   "name": "python",
   "nbconvert_exporter": "python",
   "pygments_lexer": "ipython3",
   "version": "3.11.4"
  }
 },
 "nbformat": 4,
 "nbformat_minor": 5
}
