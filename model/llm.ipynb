{
 "cells": [
  {
   "cell_type": "code",
   "execution_count": null,
   "id": "2d03b06c",
   "metadata": {},
   "outputs": [],
   "source": [
    "from transformers import AutoModelForCausalLM\n",
    "\n",
    "class LLM:\n",
    "    def __init__(self, config):\n",
    "        self.model = AutoModelForCausalLM.from_pretrained(config[\"model_name\"])\n",
    "        self.config = config\n",
    "\n",
    "    def generate(self, input_ids, attention_mask, **kwargs):\n",
    "        return self.model.generate(input_ids=input_ids, attention_mask=attention_mask, **kwargs)\n",
    "\n",
    "    def forward(self, input_ids, attention_mask):\n",
    "        return self.model(input_ids=input_ids, attention_mask=attention_mask)"
   ]
  }
 ],
 "metadata": {
  "kernelspec": {
   "display_name": "Python 3 (ipykernel)",
   "language": "python",
   "name": "python3"
  },
  "language_info": {
   "codemirror_mode": {
    "name": "ipython",
    "version": 3
   },
   "file_extension": ".py",
   "mimetype": "text/x-python",
   "name": "python",
   "nbconvert_exporter": "python",
   "pygments_lexer": "ipython3",
   "version": "3.11.4"
  }
 },
 "nbformat": 4,
 "nbformat_minor": 5
}
