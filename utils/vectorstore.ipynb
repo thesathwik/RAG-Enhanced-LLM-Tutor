{
 "cells": [
  {
   "cell_type": "code",
   "execution_count": null,
   "id": "4deb6b30",
   "metadata": {},
   "outputs": [],
   "source": [
    "from sentence_transformers import SentenceTransformer\n",
    "import faiss\n",
    "\n",
    "class VectorStore:\n",
    "    def __init__(self, config):\n",
    "        self.config = config\n",
    "        self.encoder = SentenceTransformer(config[\"encoder_model\"])\n",
    "        self.index = faiss.IndexFlatL2(self.encoder.get_sentence_embedding_dimension())\n",
    "        self.documents = []\n",
    "\n",
    "    def add_documents(self, documents):\n",
    "        embeddings = self.encoder.encode(documents)\n",
    "        self.index.add(embeddings)\n",
    "        self.documents.extend(documents)\n",
    "\n",
    "    def search(self, query, k=5):\n",
    "        query_embedding = self.encoder.encode([query])\n",
    "        _, indices = self.index.search(query_embedding, k)\n",
    "        return [self.documents[i] for i in indices[0]]"
   ]
  }
 ],
 "metadata": {
  "kernelspec": {
   "display_name": "Python 3 (ipykernel)",
   "language": "python",
   "name": "python3"
  },
  "language_info": {
   "codemirror_mode": {
    "name": "ipython",
    "version": 3
   },
   "file_extension": ".py",
   "mimetype": "text/x-python",
   "name": "python",
   "nbconvert_exporter": "python",
   "pygments_lexer": "ipython3",
   "version": "3.11.4"
  }
 },
 "nbformat": 4,
 "nbformat_minor": 5
}
