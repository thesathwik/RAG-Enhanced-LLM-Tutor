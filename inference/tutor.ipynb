{
 "cells": [
  {
   "cell_type": "code",
   "execution_count": null,
   "id": "9187b71b",
   "metadata": {},
   "outputs": [],
   "source": [
    "import logging\n",
    "\n",
    "class Tutor:\n",
    "    def __init__(self, rag_model, config):\n",
    "        self.rag_model = rag_model\n",
    "        self.config = config\n",
    "        self.logger = logging.getLogger(__name__)\n",
    "\n",
    "    def generate_response(self, query):\n",
    "        retrieved_docs = self.rag_model.retrieve(query)\n",
    "        response = self.rag_model.generate(query, retrieved_docs)\n",
    "        return response[0]  # Assuming single response\n",
    "\n",
    "    def start_interactive_session(self):\n",
    "        self.logger.info(\"Starting interactive tutoring session. Type 'exit' to end the session.\")\n",
    "        while True:\n",
    "            query = input(\"Student: \")\n",
    "            if query.lower() == 'exit':\n",
    "                break\n",
    "            response = self.generate_response(query)\n",
    "            print(f\"Tutor: {response}\")\n",
    "        self.logger.info(\"Interactive tutoring session ended.\")"
   ]
  }
 ],
 "metadata": {
  "kernelspec": {
   "display_name": "Python 3 (ipykernel)",
   "language": "python",
   "name": "python3"
  },
  "language_info": {
   "codemirror_mode": {
    "name": "ipython",
    "version": 3
   },
   "file_extension": ".py",
   "mimetype": "text/x-python",
   "name": "python",
   "nbconvert_exporter": "python",
   "pygments_lexer": "ipython3",
   "version": "3.11.4"
  }
 },
 "nbformat": 4,
 "nbformat_minor": 5
}
