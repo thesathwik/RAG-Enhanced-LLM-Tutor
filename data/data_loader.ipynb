{
 "cells": [
  {
   "cell_type": "code",
   "execution_count": null,
   "id": "3b36a0f1",
   "metadata": {},
   "outputs": [],
   "source": [
    "import pandas as pd\n",
    "from datasets import load_dataset\n",
    "\n",
    "class DataLoader:\n",
    "    def __init__(self, config):\n",
    "        self.config = config\n",
    "\n",
    "    def load_train_data(self):\n",
    "        return load_dataset(self.config.train_path)\n",
    "\n",
    "    def load_eval_data(self):\n",
    "        return load_dataset(self.config.eval_path)\n",
    "\n",
    "    def load_knowledge_base(self):\n",
    "        return pd.read_csv(self.config.knowledge_base_path)"
   ]
  }
 ],
 "metadata": {
  "kernelspec": {
   "display_name": "Python 3 (ipykernel)",
   "language": "python",
   "name": "python3"
  },
  "language_info": {
   "codemirror_mode": {
    "name": "ipython",
    "version": 3
   },
   "file_extension": ".py",
   "mimetype": "text/x-python",
   "name": "python",
   "nbconvert_exporter": "python",
   "pygments_lexer": "ipython3",
   "version": "3.11.4"
  }
 },
 "nbformat": 4,
 "nbformat_minor": 5
}
