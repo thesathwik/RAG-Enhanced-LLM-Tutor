{
 "cells": [
  {
   "cell_type": "code",
   "execution_count": null,
   "id": "bd792f5a",
   "metadata": {},
   "outputs": [],
   "source": [
    "import torch\n",
    "from torch.utils.data import DataLoader\n",
    "from tqdm import tqdm\n",
    "from transformers import get_linear_schedule_with_warmup\n",
    "from training.lora_adapter import LoraAdapter\n",
    "\n",
    "class Trainer:\n",
    "    def __init__(self, config, model):\n",
    "        self.config = config\n",
    "        self.model = model\n",
    "        self.optimizer = torch.optim.AdamW(self.model.parameters(), lr=config.learning_rate)\n",
    "        self.lora_adapter = LoraAdapter(config.lora_config)\n",
    "\n",
    "    def train(self, train_dataset):\n",
    "        train_dataloader = DataLoader(train_dataset, batch_size=self.config.batch_size, shuffle=True)\n",
    "        num_training_steps = len(train_dataloader) * self.config.num_epochs\n",
    "        scheduler = get_linear_schedule_with_warmup(\n",
    "            self.optimizer, num_warmup_steps=0, num_training_steps=num_training_steps\n",
    "        )\n",
    "\n",
    "        self.model = self.lora_adapter.adapt(self.model)\n",
    "\n",
    "        for epoch in range(self.config.num_epochs):\n",
    "            self.model.train()\n",
    "            total_loss = 0\n",
    "            for batch in tqdm(train_dataloader, desc=f\"Epoch {epoch+1}/{self.config.num_epochs}\"):\n",
    "                self.optimizer.zero_grad()\n",
    "                outputs = self.model(**batch)\n",
    "                loss = outputs.loss\n",
    "                loss.backward()\n",
    "                torch.nn.utils.clip_grad_norm_(self.model.parameters(), 1.0)\n",
    "                self.optimizer.step()\n",
    "                scheduler.step()\n",
    "                total_loss += loss.item()\n",
    "\n",
    "            avg_loss = total_loss / len(train_dataloader)\n",
    "            print(f\"Epoch {epoch+1}/{self.config.num_epochs}, Average Loss: {avg_loss:.4f}\")\n",
    "\n",
    "            self._save_checkpoint(epoch)\n",
    "\n",
    "    def _save_checkpoint(self, epoch):\n",
    "        checkpoint_path = f\"{self.config.checkpoint_dir}/model_epoch_{epoch+1}.pt\"\n",
    "        torch.save({\n",
    "            'epoch': epoch,\n",
    "            'model_state_dict': self.model.state_dict(),\n",
    "            'optimizer_state_dict': self.optimizer.state_dict(),\n",
    "        }, checkpoint_path)"
   ]
  }
 ],
 "metadata": {
  "kernelspec": {
   "display_name": "Python 3 (ipykernel)",
   "language": "python",
   "name": "python3"
  },
  "language_info": {
   "codemirror_mode": {
    "name": "ipython",
    "version": 3
   },
   "file_extension": ".py",
   "mimetype": "text/x-python",
   "name": "python",
   "nbconvert_exporter": "python",
   "pygments_lexer": "ipython3",
   "version": "3.11.4"
  }
 },
 "nbformat": 4,
 "nbformat_minor": 5
}
