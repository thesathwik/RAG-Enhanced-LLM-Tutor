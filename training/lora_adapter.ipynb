{
 "cells": [
  {
   "cell_type": "code",
   "execution_count": null,
   "id": "98ea478c",
   "metadata": {},
   "outputs": [],
   "source": [
    "from peft import get_peft_model, LoraConfig, TaskType\n",
    "\n",
    "class LoraAdapter:\n",
    "    def __init__(self, config):\n",
    "        self.config = config\n",
    "\n",
    "    def adapt(self, model):\n",
    "        peft_config = LoraConfig(\n",
    "            task_type=TaskType.CAUSAL_LM,\n",
    "            r=self.config[\"r\"],\n",
    "            lora_alpha=self.config[\"alpha\"],\n",
    "            lora_dropout=self.config[\"dropout\"],\n",
    "            target_modules=self.config[\"target_modules\"]\n",
    "        )\n",
    "        return get_peft_model(model, peft_config)"
   ]
  }
 ],
 "metadata": {
  "kernelspec": {
   "display_name": "Python 3 (ipykernel)",
   "language": "python",
   "name": "python3"
  },
  "language_info": {
   "codemirror_mode": {
    "name": "ipython",
    "version": 3
   },
   "file_extension": ".py",
   "mimetype": "text/x-python",
   "name": "python",
   "nbconvert_exporter": "python",
   "pygments_lexer": "ipython3",
   "version": "3.11.4"
  }
 },
 "nbformat": 4,
 "nbformat_minor": 5
}
