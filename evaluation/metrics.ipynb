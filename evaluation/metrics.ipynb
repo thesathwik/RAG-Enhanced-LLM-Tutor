{
 "cells": [
  {
   "cell_type": "code",
   "execution_count": null,
   "id": "deff3078",
   "metadata": {},
   "outputs": [],
   "source": [
    "from nltk.translate.bleu_score import corpus_bleu\n",
    "from rouge import Rouge\n",
    "from bert_score import score\n",
    "\n",
    "def calculate_metrics(predictions, references, metrics):\n",
    "    results = {}\n",
    "    if \"bleu\" in metrics:\n",
    "        results[\"bleu\"] = corpus_bleu([[r.split()] for r in references], [p.split() for p in predictions])\n",
    "    if \"rouge\" in metrics:\n",
    "        rouge = Rouge()\n",
    "        rouge_scores = rouge.get_scores(predictions, references, avg=True)\n",
    "        results[\"rouge\"] = rouge_scores\n",
    "    if \"bert_score\" in metrics:\n",
    "        P, R, F1 = score(predictions, references, lang=\"en\", verbose=True)\n",
    "        results[\"bert_score\"] = {\n",
    "            \"precision\": P.mean().item(),\n",
    "            \"recall\": R.mean().item(),\n",
    "            \"f1\": F1.mean().item()\n",
    "        }\n",
    "    return results"
   ]
  },
  {
   "cell_type": "code",
   "execution_count": null,
   "id": "80ce5466",
   "metadata": {},
   "outputs": [],
   "source": []
  }
 ],
 "metadata": {
  "kernelspec": {
   "display_name": "Python 3 (ipykernel)",
   "language": "python",
   "name": "python3"
  },
  "language_info": {
   "codemirror_mode": {
    "name": "ipython",
    "version": 3
   },
   "file_extension": ".py",
   "mimetype": "text/x-python",
   "name": "python",
   "nbconvert_exporter": "python",
   "pygments_lexer": "ipython3",
   "version": "3.11.4"
  }
 },
 "nbformat": 4,
 "nbformat_minor": 5
}
