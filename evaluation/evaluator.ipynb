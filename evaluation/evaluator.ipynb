{
 "cells": [
  {
   "cell_type": "code",
   "execution_count": null,
   "id": "cffbcec8",
   "metadata": {},
   "outputs": [],
   "source": [
    "from torch.utils.data import DataLoader\n",
    "from tqdm import tqdm\n",
    "from evaluation.metrics import calculate_metrics\n",
    "\n",
    "class Evaluator:\n",
    "    def __init__(self, config):\n",
    "        self.config = config\n",
    "\n",
    "    def evaluate(self, model, eval_dataset):\n",
    "        eval_dataloader = DataLoader(eval_dataset, batch_size=self.config.batch_size)\n",
    "        model.eval()\n",
    "        all_predictions = []\n",
    "        all_references = []\n",
    "\n",
    "        for batch in tqdm(eval_dataloader, desc=\"Evaluating\"):\n",
    "            with torch.no_grad():\n",
    "                outputs = model.generate(**batch)\n",
    "            predictions = model.tokenizer.batch_decode(outputs, skip_special_tokens=True)\n",
    "            references = model.tokenizer.batch_decode(batch[\"labels\"], skip_special_tokens=True)\n",
    "            all_predictions.extend(predictions)\n",
    "            all_references.extend(references)\n",
    "\n",
    "        return calculate_metrics(all_predictions, all_references, self.config.metrics)"
   ]
  }
 ],
 "metadata": {
  "kernelspec": {
   "display_name": "Python 3 (ipykernel)",
   "language": "python",
   "name": "python3"
  },
  "language_info": {
   "codemirror_mode": {
    "name": "ipython",
    "version": 3
   },
   "file_extension": ".py",
   "mimetype": "text/x-python",
   "name": "python",
   "nbconvert_exporter": "python",
   "pygments_lexer": "ipython3",
   "version": "3.11.4"
  }
 },
 "nbformat": 4,
 "nbformat_minor": 5
}
