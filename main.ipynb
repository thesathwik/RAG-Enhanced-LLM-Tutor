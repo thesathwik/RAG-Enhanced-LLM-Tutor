{
 "cells": [
  {
   "cell_type": "code",
   "execution_count": null,
   "id": "87d42442",
   "metadata": {},
   "outputs": [],
   "source": [
    "import argparse\n",
    "import logging\n",
    "from config import Config\n",
    "from data.data_loader import DataLoader\n",
    "from data.preprocessor import Preprocessor\n",
    "from model.llm import LLM\n",
    "from model.rag import RAG\n",
    "from training.trainer import Trainer\n",
    "from evaluation.evaluator import Evaluator\n",
    "from utils.logger import setup_logger\n",
    "from inference.tutor import Tutor\n",
    "\n",
    "def parse_args():\n",
    "    parser = argparse.ArgumentParser(description=\"RAG-Enhanced LLM Tutor\")\n",
    "    parser.add_argument(\"--mode\", choices=[\"train\", \"evaluate\", \"infer\"], required=True)\n",
    "    parser.add_argument(\"--config\", default=\"config.yaml\", help=\"Path to config file\")\n",
    "    return parser.parse_args()\n",
    "\n",
    "def main():\n",
    "    args = parse_args()\n",
    "    config = Config(args.config)\n",
    "    setup_logger(config.logging.level, config.logging.file)\n",
    "    logger = logging.getLogger(__name__)\n",
    "\n",
    "    data_loader = DataLoader(config.data)\n",
    "    preprocessor = Preprocessor(config.preprocessing)\n",
    "\n",
    "    llm = LLM(config.model.llm)\n",
    "    rag = RAG(config.model.rag, llm)\n",
    "\n",
    "    if args.mode == \"train\":\n",
    "        trainer = Trainer(config.training, rag)\n",
    "        train_data = data_loader.load_train_data()\n",
    "        preprocessed_data = preprocessor.preprocess(train_data)\n",
    "        trainer.train(preprocessed_data)\n",
    "    elif args.mode == \"evaluate\":\n",
    "        evaluator = Evaluator(config.evaluation)\n",
    "        eval_data = data_loader.load_eval_data()\n",
    "        preprocessed_data = preprocessor.preprocess(eval_data)\n",
    "        results = evaluator.evaluate(rag, preprocessed_data)\n",
    "        logger.info(f\"Evaluation results: {results}\")\n",
    "    elif args.mode == \"infer\":\n",
    "        tutor = Tutor(rag, config.inference)\n",
    "        tutor.start_interactive_session()\n",
    "\n",
    "if __name__ == \"__main__\":\n",
    "    main()"
   ]
  }
 ],
 "metadata": {
  "kernelspec": {
   "display_name": "Python 3 (ipykernel)",
   "language": "python",
   "name": "python3"
  },
  "language_info": {
   "codemirror_mode": {
    "name": "ipython",
    "version": 3
   },
   "file_extension": ".py",
   "mimetype": "text/x-python",
   "name": "python",
   "nbconvert_exporter": "python",
   "pygments_lexer": "ipython3",
   "version": "3.11.4"
  }
 },
 "nbformat": 4,
 "nbformat_minor": 5
}
